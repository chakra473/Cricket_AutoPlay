{
  "nbformat": 4,
  "nbformat_minor": 0,
  "metadata": {
    "colab": {
      "name": "Untitled0.ipynb",
      "provenance": [],
      "authorship_tag": "ABX9TyNOB3oh73Q9T0Ay1Cvae4Io",
      "include_colab_link": true
    },
    "kernelspec": {
      "name": "python3",
      "display_name": "Python 3"
    },
    "language_info": {
      "name": "python"
    }
  },
  "cells": [
    {
      "cell_type": "markdown",
      "metadata": {
        "id": "view-in-github",
        "colab_type": "text"
      },
      "source": [
        "<a href=\"https://colab.research.google.com/github/chakra473/option-trading-model/blob/main/Untitled0.ipynb\" target=\"_parent\"><img src=\"https://colab.research.google.com/assets/colab-badge.svg\" alt=\"Open In Colab\"/></a>"
      ]
    },
    {
      "cell_type": "code",
      "metadata": {
        "colab": {
          "base_uri": "https://localhost:8080/"
        },
        "id": "u9H5qbwK4Kxy",
        "outputId": "e29d1274-f3f7-4faa-828e-1a1a49e479f3"
      },
      "source": [
        "import numpy as np # linear algebra\n",
        "import pandas as pd # data processing, CSV file I/O (e.g. pd.read_csv)\n",
        "import os\n",
        "from subprocess import check_output\n",
        "import seaborn as sns\n",
        "import matplotlib.pyplot as plt\n",
        "import warnings\n",
        "from pandas.plotting import lag_plot\n",
        "from pandas import datetime\n",
        "from statsmodels.tsa.arima_model import ARIMA\n",
        "from sklearn.metrics import mean_squared_error\n"
      ],
      "execution_count": null,
      "outputs": [
        {
          "output_type": "stream",
          "name": "stderr",
          "text": [
            "/usr/local/lib/python3.7/dist-packages/ipykernel_launcher.py:9: FutureWarning: The pandas.datetime class is deprecated and will be removed from pandas in a future version. Import from datetime module instead.\n",
            "  if __name__ == '__main__':\n"
          ]
        }
      ]
    },
    {
      "cell_type": "code",
      "metadata": {
        "colab": {
          "base_uri": "https://localhost:8080/",
          "height": 411
        },
        "id": "d2QXRlTYXyr4",
        "outputId": "dae306ae-e646-4897-9461-e065bc886c69"
      },
      "source": [
        "df = pd.read_csv(\"/content/Quote-Equity-APOLLOHOSP-EQ-19-08-2021-to-19-09-2021.csv\")\n",
        "df.head()"
      ],
      "execution_count": null,
      "outputs": [
        {
          "output_type": "execute_result",
          "data": {
            "text/html": [
              "<div>\n",
              "<style scoped>\n",
              "    .dataframe tbody tr th:only-of-type {\n",
              "        vertical-align: middle;\n",
              "    }\n",
              "\n",
              "    .dataframe tbody tr th {\n",
              "        vertical-align: top;\n",
              "    }\n",
              "\n",
              "    .dataframe thead th {\n",
              "        text-align: right;\n",
              "    }\n",
              "</style>\n",
              "<table border=\"1\" class=\"dataframe\">\n",
              "  <thead>\n",
              "    <tr style=\"text-align: right;\">\n",
              "      <th></th>\n",
              "      <th>Date</th>\n",
              "      <th>series</th>\n",
              "      <th>OPEN</th>\n",
              "      <th>HIGH</th>\n",
              "      <th>LOW</th>\n",
              "      <th>PREV. CLOSE</th>\n",
              "      <th>ltp</th>\n",
              "      <th>close</th>\n",
              "      <th>vwap</th>\n",
              "      <th>52W H</th>\n",
              "      <th>52W L</th>\n",
              "      <th>VOLUME</th>\n",
              "      <th>VALUE</th>\n",
              "      <th>No of trades</th>\n",
              "    </tr>\n",
              "  </thead>\n",
              "  <tbody>\n",
              "    <tr>\n",
              "      <th>0</th>\n",
              "      <td>17-Sep-2021</td>\n",
              "      <td>EQ</td>\n",
              "      <td>4,875.00</td>\n",
              "      <td>4,945.50</td>\n",
              "      <td>4,864.45</td>\n",
              "      <td>4,880.75</td>\n",
              "      <td>4,898.05</td>\n",
              "      <td>4,908.25</td>\n",
              "      <td>4,906.06</td>\n",
              "      <td>5,122.00</td>\n",
              "      <td>1,590.15</td>\n",
              "      <td>814867</td>\n",
              "      <td>3,997,783,002.45</td>\n",
              "      <td>53022</td>\n",
              "    </tr>\n",
              "    <tr>\n",
              "      <th>1</th>\n",
              "      <td>16-Sep-2021</td>\n",
              "      <td>EQ</td>\n",
              "      <td>4,819.00</td>\n",
              "      <td>4,890.00</td>\n",
              "      <td>4,792.05</td>\n",
              "      <td>4,792.05</td>\n",
              "      <td>4,875.00</td>\n",
              "      <td>4,880.75</td>\n",
              "      <td>4,846.76</td>\n",
              "      <td>5,122.00</td>\n",
              "      <td>1,590.15</td>\n",
              "      <td>779552</td>\n",
              "      <td>3,778,304,064.90</td>\n",
              "      <td>50954</td>\n",
              "    </tr>\n",
              "    <tr>\n",
              "      <th>2</th>\n",
              "      <td>15-Sep-2021</td>\n",
              "      <td>EQ</td>\n",
              "      <td>4,750.00</td>\n",
              "      <td>4,819.20</td>\n",
              "      <td>4,686.55</td>\n",
              "      <td>4,732.45</td>\n",
              "      <td>4,795.00</td>\n",
              "      <td>4,792.05</td>\n",
              "      <td>4,755.53</td>\n",
              "      <td>5,122.00</td>\n",
              "      <td>1,590.15</td>\n",
              "      <td>659281</td>\n",
              "      <td>3,135,230,899.85</td>\n",
              "      <td>57470</td>\n",
              "    </tr>\n",
              "    <tr>\n",
              "      <th>3</th>\n",
              "      <td>14-Sep-2021</td>\n",
              "      <td>EQ</td>\n",
              "      <td>4,773.00</td>\n",
              "      <td>4,773.00</td>\n",
              "      <td>4,696.70</td>\n",
              "      <td>4,745.85</td>\n",
              "      <td>4,725.00</td>\n",
              "      <td>4,732.45</td>\n",
              "      <td>4,738.83</td>\n",
              "      <td>5,122.00</td>\n",
              "      <td>1,590.15</td>\n",
              "      <td>528943</td>\n",
              "      <td>2,506,572,504.90</td>\n",
              "      <td>48594</td>\n",
              "    </tr>\n",
              "    <tr>\n",
              "      <th>4</th>\n",
              "      <td>13-Sep-2021</td>\n",
              "      <td>EQ</td>\n",
              "      <td>4,735.00</td>\n",
              "      <td>4,796.00</td>\n",
              "      <td>4,681.35</td>\n",
              "      <td>4,719.55</td>\n",
              "      <td>4,742.00</td>\n",
              "      <td>4,745.85</td>\n",
              "      <td>4,756.84</td>\n",
              "      <td>5,122.00</td>\n",
              "      <td>1,590.15</td>\n",
              "      <td>1151299</td>\n",
              "      <td>5,476,545,631.35</td>\n",
              "      <td>99852</td>\n",
              "    </tr>\n",
              "  </tbody>\n",
              "</table>\n",
              "</div>"
            ],
            "text/plain": [
              "         Date  series      OPEN   ...  VOLUME             VALUE  No of trades \n",
              "0  17-Sep-2021      EQ  4,875.00  ...   814867  3,997,783,002.45         53022\n",
              "1  16-Sep-2021      EQ  4,819.00  ...   779552  3,778,304,064.90         50954\n",
              "2  15-Sep-2021      EQ  4,750.00  ...   659281  3,135,230,899.85         57470\n",
              "3  14-Sep-2021      EQ  4,773.00  ...   528943  2,506,572,504.90         48594\n",
              "4  13-Sep-2021      EQ  4,735.00  ...  1151299  5,476,545,631.35         99852\n",
              "\n",
              "[5 rows x 14 columns]"
            ]
          },
          "metadata": {},
          "execution_count": 7
        }
      ]
    },
    {
      "cell_type": "code",
      "metadata": {
        "colab": {
          "base_uri": "https://localhost:8080/"
        },
        "id": "bUozpAQVgiIW",
        "outputId": "3c472906-5c0b-4702-f35d-d4d322cb9038"
      },
      "source": [
        "print(df.head(10))\n",
        "print(df.shape)\n",
        "print(df.columns)\n",
        "print(df.dtypes)"
      ],
      "execution_count": null,
      "outputs": [
        {
          "output_type": "stream",
          "name": "stdout",
          "text": [
            "         Date  series      OPEN   ...  VOLUME             VALUE  No of trades \n",
            "0  17-Sep-2021      EQ  4,875.00  ...   814867  3,997,783,002.45         53022\n",
            "1  16-Sep-2021      EQ  4,819.00  ...   779552  3,778,304,064.90         50954\n",
            "2  15-Sep-2021      EQ  4,750.00  ...   659281  3,135,230,899.85         57470\n",
            "3  14-Sep-2021      EQ  4,773.00  ...   528943  2,506,572,504.90         48594\n",
            "4  13-Sep-2021      EQ  4,735.00  ...  1151299  5,476,545,631.35         99852\n",
            "5  09-Sep-2021      EQ  4,815.70  ...   838279  3,968,619,270.65         79012\n",
            "6  08-Sep-2021      EQ  4,900.00  ...   642506  3,097,053,364.05         54658\n",
            "7  07-Sep-2021      EQ  5,020.40  ...   479021  2,349,290,453.55         42870\n",
            "8  06-Sep-2021      EQ  5,029.00  ...   439776  2,197,013,755.10         25445\n",
            "9  03-Sep-2021      EQ  5,054.00  ...   567961  2,840,719,805.90         47395\n",
            "\n",
            "[10 rows x 14 columns]\n",
            "(20, 14)\n",
            "Index(['Date ', 'series ', 'OPEN ', 'HIGH ', 'LOW ', 'PREV. CLOSE ', 'ltp ',\n",
            "       'close ', 'vwap ', '52W H ', '52W L ', 'VOLUME ', 'VALUE ',\n",
            "       'No of trades '],\n",
            "      dtype='object')\n",
            "Date             object\n",
            "series           object\n",
            "OPEN             object\n",
            "HIGH             object\n",
            "LOW              object\n",
            "PREV. CLOSE      object\n",
            "ltp              object\n",
            "close            object\n",
            "vwap             object\n",
            "52W H            object\n",
            "52W L            object\n",
            "VOLUME            int64\n",
            "VALUE            object\n",
            "No of trades      int64\n",
            "dtype: object\n"
          ]
        }
      ]
    },
    {
      "cell_type": "code",
      "metadata": {
        "colab": {
          "base_uri": "https://localhost:8080/",
          "height": 553
        },
        "id": "rbTjrTZeiN2M",
        "outputId": "917ea362-e0b9-4b39-df75-607208d452d1"
      },
      "source": [
        "print(df.dtypes)\n",
        "# df['close '] = df['close '].str.replace(',','')\n",
        "df['close ']= df[\"close \"].astype(float)\n",
        "\n",
        "df['close '].plot()\n",
        "plt.title(\"apollo\")\n",
        "plt.show()\n"
      ],
      "execution_count": null,
      "outputs": [
        {
          "output_type": "stream",
          "name": "stdout",
          "text": [
            "Date              object\n",
            "series            object\n",
            "OPEN              object\n",
            "HIGH              object\n",
            "LOW               object\n",
            "PREV. CLOSE       object\n",
            "ltp               object\n",
            "close            float64\n",
            "vwap              object\n",
            "52W H             object\n",
            "52W L             object\n",
            "VOLUME             int64\n",
            "VALUE             object\n",
            "No of trades       int64\n",
            "close            float64\n",
            "dtype: object\n"
          ]
        },
        {
          "output_type": "display_data",
          "data": {
            "image/png": "[encoded data removed]",
            "text/plain": [
              "<Figure size 432x288 with 1 Axes>"
            ]
          },
          "metadata": {
            "needs_background": "light"
          }
        }
      ]
    },
    {
      "cell_type": "code",
      "metadata": {
        "id": "BxZwnvyUuY9e",
        "colab": {
          "base_uri": "https://localhost:8080/",
          "height": 561
        },
        "outputId": "b7e24d99-f05d-44f2-f4f9-3166afffc0d9"
      },
      "source": [
        "import pandas as pd\n",
        "import matplotlib.pyplot as plt\n",
        "df = pd.read_csv(\"/content/Quote-Equity-APOLLOHOSP-EQ-19-08-2021-to-19-09-2021.csv\")\n",
        "df[\"VOLUME \",\"close \"].plot()\n",
        "plt.show"
      ],
      "execution_count": null,
      "outputs": [
        {
          "output_type": "error",
          "ename": "KeyError",
          "evalue": "ignored",
          "traceback": [
            "\u001b[0;31m---------------------------------------------------------------------------\u001b[0m",
            "\u001b[0;31mKeyError\u001b[0m                                  Traceback (most recent call last)",
            "\u001b[0;32m/usr/local/lib/python3.7/dist-packages/pandas/core/indexes/base.py\u001b[0m in \u001b[0;36mget_loc\u001b[0;34m(self, key, method, tolerance)\u001b[0m\n\u001b[1;32m   2897\u001b[0m             \u001b[0;32mtry\u001b[0m\u001b[0;34m:\u001b[0m\u001b[0;34m\u001b[0m\u001b[0;34m\u001b[0m\u001b[0m\n\u001b[0;32m-> 2898\u001b[0;31m                 \u001b[0;32mreturn\u001b[0m \u001b[0mself\u001b[0m\u001b[0;34m.\u001b[0m\u001b[0m_engine\u001b[0m\u001b[0;34m.\u001b[0m\u001b[0mget_loc\u001b[0m\u001b[0;34m(\u001b[0m\u001b[0mcasted_key\u001b[0m\u001b[0;34m)\u001b[0m\u001b[0;34m\u001b[0m\u001b[0;34m\u001b[0m\u001b[0m\n\u001b[0m\u001b[1;32m   2899\u001b[0m             \u001b[0;32mexcept\u001b[0m \u001b[0mKeyError\u001b[0m \u001b[0;32mas\u001b[0m \u001b[0merr\u001b[0m\u001b[0;34m:\u001b[0m\u001b[0;34m\u001b[0m\u001b[0;34m\u001b[0m\u001b[0m\n",
            "\u001b[0;32mpandas/_libs/index.pyx\u001b[0m in \u001b[0;36mpandas._libs.index.IndexEngine.get_loc\u001b[0;34m()\u001b[0m\n",
            "\u001b[0;32mpandas/_libs/index.pyx\u001b[0m in \u001b[0;36mpandas._libs.index.IndexEngine.get_loc\u001b[0;34m()\u001b[0m\n",
            "\u001b[0;32mpandas/_libs/hashtable_class_helper.pxi\u001b[0m in \u001b[0;36mpandas._libs.hashtable.PyObjectHashTable.get_item\u001b[0;34m()\u001b[0m\n",
            "\u001b[0;32mpandas/_libs/hashtable_class_helper.pxi\u001b[0m in \u001b[0;36mpandas._libs.hashtable.PyObjectHashTable.get_item\u001b[0;34m()\u001b[0m\n",
            "\u001b[0;31mKeyError\u001b[0m: ('VOLUME ', 'close ')",
            "\nThe above exception was the direct cause of the following exception:\n",
            "\u001b[0;31mKeyError\u001b[0m                                  Traceback (most recent call last)",
            "\u001b[0;32m<ipython-input-5-5e2547c0c7ff>\u001b[0m in \u001b[0;36m<module>\u001b[0;34m()\u001b[0m\n\u001b[1;32m      2\u001b[0m \u001b[0;32mimport\u001b[0m \u001b[0mmatplotlib\u001b[0m\u001b[0;34m.\u001b[0m\u001b[0mpyplot\u001b[0m \u001b[0;32mas\u001b[0m \u001b[0mplt\u001b[0m\u001b[0;34m\u001b[0m\u001b[0;34m\u001b[0m\u001b[0m\n\u001b[1;32m      3\u001b[0m \u001b[0mdf\u001b[0m \u001b[0;34m=\u001b[0m \u001b[0mpd\u001b[0m\u001b[0;34m.\u001b[0m\u001b[0mread_csv\u001b[0m\u001b[0;34m(\u001b[0m\u001b[0;34m\"/content/Quote-Equity-APOLLOHOSP-EQ-19-08-2021-to-19-09-2021.csv\"\u001b[0m\u001b[0;34m)\u001b[0m\u001b[0;34m\u001b[0m\u001b[0;34m\u001b[0m\u001b[0m\n\u001b[0;32m----> 4\u001b[0;31m \u001b[0mdf\u001b[0m\u001b[0;34m[\u001b[0m\u001b[0;34m\"VOLUME \"\u001b[0m\u001b[0;34m,\u001b[0m\u001b[0;34m\"close \"\u001b[0m\u001b[0;34m]\u001b[0m\u001b[0;34m.\u001b[0m\u001b[0mplot\u001b[0m\u001b[0;34m(\u001b[0m\u001b[0;34m)\u001b[0m\u001b[0;34m\u001b[0m\u001b[0;34m\u001b[0m\u001b[0m\n\u001b[0m\u001b[1;32m      5\u001b[0m \u001b[0mplt\u001b[0m\u001b[0;34m.\u001b[0m\u001b[0mshow\u001b[0m\u001b[0;34m\u001b[0m\u001b[0;34m\u001b[0m\u001b[0m\n",
            "\u001b[0;32m/usr/local/lib/python3.7/dist-packages/pandas/core/frame.py\u001b[0m in \u001b[0;36m__getitem__\u001b[0;34m(self, key)\u001b[0m\n\u001b[1;32m   2904\u001b[0m             \u001b[0;32mif\u001b[0m \u001b[0mself\u001b[0m\u001b[0;34m.\u001b[0m\u001b[0mcolumns\u001b[0m\u001b[0;34m.\u001b[0m\u001b[0mnlevels\u001b[0m \u001b[0;34m>\u001b[0m \u001b[0;36m1\u001b[0m\u001b[0;34m:\u001b[0m\u001b[0;34m\u001b[0m\u001b[0;34m\u001b[0m\u001b[0m\n\u001b[1;32m   2905\u001b[0m                 \u001b[0;32mreturn\u001b[0m \u001b[0mself\u001b[0m\u001b[0;34m.\u001b[0m\u001b[0m_getitem_multilevel\u001b[0m\u001b[0;34m(\u001b[0m\u001b[0mkey\u001b[0m\u001b[0;34m)\u001b[0m\u001b[0;34m\u001b[0m\u001b[0;34m\u001b[0m\u001b[0m\n\u001b[0;32m-> 2906\u001b[0;31m             \u001b[0mindexer\u001b[0m \u001b[0;34m=\u001b[0m \u001b[0mself\u001b[0m\u001b[0;34m.\u001b[0m\u001b[0mcolumns\u001b[0m\u001b[0;34m.\u001b[0m\u001b[0mget_loc\u001b[0m\u001b[0;34m(\u001b[0m\u001b[0mkey\u001b[0m\u001b[0;34m)\u001b[0m\u001b[0;34m\u001b[0m\u001b[0;34m\u001b[0m\u001b[0m\n\u001b[0m\u001b[1;32m   2907\u001b[0m             \u001b[0;32mif\u001b[0m \u001b[0mis_integer\u001b[0m\u001b[0;34m(\u001b[0m\u001b[0mindexer\u001b[0m\u001b[0;34m)\u001b[0m\u001b[0;34m:\u001b[0m\u001b[0;34m\u001b[0m\u001b[0;34m\u001b[0m\u001b[0m\n\u001b[1;32m   2908\u001b[0m                 \u001b[0mindexer\u001b[0m \u001b[0;34m=\u001b[0m \u001b[0;34m[\u001b[0m\u001b[0mindexer\u001b[0m\u001b[0;34m]\u001b[0m\u001b[0;34m\u001b[0m\u001b[0;34m\u001b[0m\u001b[0m\n",
            "\u001b[0;32m/usr/local/lib/python3.7/dist-packages/pandas/core/indexes/base.py\u001b[0m in \u001b[0;36mget_loc\u001b[0;34m(self, key, method, tolerance)\u001b[0m\n\u001b[1;32m   2898\u001b[0m                 \u001b[0;32mreturn\u001b[0m \u001b[0mself\u001b[0m\u001b[0;34m.\u001b[0m\u001b[0m_engine\u001b[0m\u001b[0;34m.\u001b[0m\u001b[0mget_loc\u001b[0m\u001b[0;34m(\u001b[0m\u001b[0mcasted_key\u001b[0m\u001b[0;34m)\u001b[0m\u001b[0;34m\u001b[0m\u001b[0;34m\u001b[0m\u001b[0m\n\u001b[1;32m   2899\u001b[0m             \u001b[0;32mexcept\u001b[0m \u001b[0mKeyError\u001b[0m \u001b[0;32mas\u001b[0m \u001b[0merr\u001b[0m\u001b[0;34m:\u001b[0m\u001b[0;34m\u001b[0m\u001b[0;34m\u001b[0m\u001b[0m\n\u001b[0;32m-> 2900\u001b[0;31m                 \u001b[0;32mraise\u001b[0m \u001b[0mKeyError\u001b[0m\u001b[0;34m(\u001b[0m\u001b[0mkey\u001b[0m\u001b[0;34m)\u001b[0m \u001b[0;32mfrom\u001b[0m \u001b[0merr\u001b[0m\u001b[0;34m\u001b[0m\u001b[0;34m\u001b[0m\u001b[0m\n\u001b[0m\u001b[1;32m   2901\u001b[0m \u001b[0;34m\u001b[0m\u001b[0m\n\u001b[1;32m   2902\u001b[0m         \u001b[0;32mif\u001b[0m \u001b[0mtolerance\u001b[0m \u001b[0;32mis\u001b[0m \u001b[0;32mnot\u001b[0m \u001b[0;32mNone\u001b[0m\u001b[0;34m:\u001b[0m\u001b[0;34m\u001b[0m\u001b[0;34m\u001b[0m\u001b[0m\n",
            "\u001b[0;31mKeyError\u001b[0m: ('VOLUME ', 'close ')"
          ]
        }
      ]
    }
  ]
}